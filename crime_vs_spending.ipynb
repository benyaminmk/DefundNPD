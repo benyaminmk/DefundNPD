{
 "cells": [
  {
   "cell_type": "markdown",
   "metadata": {},
   "source": [
    "# Crime rate and Funding visualized"
   ]
  },
  {
   "cell_type": "code",
   "execution_count": 24,
   "metadata": {},
   "outputs": [],
   "source": [
    "import os\n",
    "import pandas as pd\n",
    "import seaborn as sns\n",
    "import matplotlib.pyplot as plt"
   ]
  },
  {
   "cell_type": "code",
   "execution_count": 25,
   "metadata": {},
   "outputs": [],
   "source": [
    "#params\n",
    "FP_SAFETY_DATA = os.path.join('data','safety_funding.csv')\n",
    "FP_PLOT_OUT = os.path.join('plots','safety_crime.svg')\n",
    "assert os.path.exists(FP_SAFETY_DATA)\n",
    "            "
   ]
  },
  {
   "cell_type": "code",
   "execution_count": 26,
   "metadata": {},
   "outputs": [],
   "source": [
    "df = pd.read_csv(FP_SAFETY_DATA,delimiter='\\t')\n",
    "df['Police Budget per capita'] = df['Police Budget per capita'].str.replace('$','').astype(float)\n",
    "df.set_index('name',inplace=True)"
   ]
  },
  {
   "cell_type": "code",
   "execution_count": 27,
   "metadata": {},
   "outputs": [
    {
     "data": {
      "text/html": [
       "<div>\n",
       "<style scoped>\n",
       "    .dataframe tbody tr th:only-of-type {\n",
       "        vertical-align: middle;\n",
       "    }\n",
       "\n",
       "    .dataframe tbody tr th {\n",
       "        vertical-align: top;\n",
       "    }\n",
       "\n",
       "    .dataframe thead th {\n",
       "        text-align: right;\n",
       "    }\n",
       "</style>\n",
       "<table border=\"1\" class=\"dataframe\">\n",
       "  <thead>\n",
       "    <tr style=\"text-align: right;\">\n",
       "      <th></th>\n",
       "      <th>Population</th>\n",
       "      <th>Total Crime Rate (per 1,000 residents)</th>\n",
       "      <th>Violent Crime Rate</th>\n",
       "      <th>Property Crime Rate</th>\n",
       "      <th>Police Officers</th>\n",
       "      <th>Officers per 10,000 residents</th>\n",
       "      <th>Police Employees</th>\n",
       "      <th>Employees per 10,000 residents</th>\n",
       "      <th>2020 Police Budget</th>\n",
       "      <th>Police Budget per capita</th>\n",
       "    </tr>\n",
       "    <tr>\n",
       "      <th>name</th>\n",
       "      <th></th>\n",
       "      <th></th>\n",
       "      <th></th>\n",
       "      <th></th>\n",
       "      <th></th>\n",
       "      <th></th>\n",
       "      <th></th>\n",
       "      <th></th>\n",
       "      <th></th>\n",
       "      <th></th>\n",
       "    </tr>\n",
       "  </thead>\n",
       "  <tbody>\n",
       "    <tr>\n",
       "      <th>Shrewsbury, MA</th>\n",
       "      <td>37973</td>\n",
       "      <td>3.1</td>\n",
       "      <td>0.1</td>\n",
       "      <td>3.0</td>\n",
       "      <td>45.0</td>\n",
       "      <td>12.2</td>\n",
       "      <td>57.0</td>\n",
       "      <td>15.5</td>\n",
       "      <td>$5,523,925.00</td>\n",
       "      <td>145.47</td>\n",
       "    </tr>\n",
       "    <tr>\n",
       "      <th>Brookline, MA</th>\n",
       "      <td>59234</td>\n",
       "      <td>11.7</td>\n",
       "      <td>1.0</td>\n",
       "      <td>10.8</td>\n",
       "      <td>129.0</td>\n",
       "      <td>21.7</td>\n",
       "      <td>153.0</td>\n",
       "      <td>25.7</td>\n",
       "      <td>$9,011,040.00</td>\n",
       "      <td>152.13</td>\n",
       "    </tr>\n",
       "    <tr>\n",
       "      <th>Franklin, MA</th>\n",
       "      <td>33230</td>\n",
       "      <td>3.6</td>\n",
       "      <td>0.2</td>\n",
       "      <td>3.5</td>\n",
       "      <td>46.0</td>\n",
       "      <td>13.8</td>\n",
       "      <td>54.0</td>\n",
       "      <td>16.2</td>\n",
       "      <td>$5,336,655.00</td>\n",
       "      <td>160.60</td>\n",
       "    </tr>\n",
       "    <tr>\n",
       "      <th>North Andover, MA</th>\n",
       "      <td>31296</td>\n",
       "      <td>8.1</td>\n",
       "      <td>1.7</td>\n",
       "      <td>6.5</td>\n",
       "      <td>40.0</td>\n",
       "      <td>13.4</td>\n",
       "      <td>51.0</td>\n",
       "      <td>17.1</td>\n",
       "      <td>$5,253,719.00</td>\n",
       "      <td>167.87</td>\n",
       "    </tr>\n",
       "    <tr>\n",
       "      <th>Melrose, MA</th>\n",
       "      <td>28193</td>\n",
       "      <td>5.8</td>\n",
       "      <td>0.5</td>\n",
       "      <td>5.3</td>\n",
       "      <td>47.0</td>\n",
       "      <td>16.7</td>\n",
       "      <td>47.0</td>\n",
       "      <td>16.7</td>\n",
       "      <td>$5,073,129.26</td>\n",
       "      <td>179.94</td>\n",
       "    </tr>\n",
       "  </tbody>\n",
       "</table>\n",
       "</div>"
      ],
      "text/plain": [
       "                  Population  Total Crime Rate (per 1,000 residents)  \\\n",
       "name                                                                   \n",
       "Shrewsbury, MA         37973                                     3.1   \n",
       "Brookline, MA          59234                                    11.7   \n",
       "Franklin, MA           33230                                     3.6   \n",
       "North Andover, MA      31296                                     8.1   \n",
       "Melrose, MA            28193                                     5.8   \n",
       "\n",
       "                   Violent Crime Rate  Property Crime Rate  Police Officers  \\\n",
       "name                                                                          \n",
       "Shrewsbury, MA                    0.1                  3.0             45.0   \n",
       "Brookline, MA                     1.0                 10.8            129.0   \n",
       "Franklin, MA                      0.2                  3.5             46.0   \n",
       "North Andover, MA                 1.7                  6.5             40.0   \n",
       "Melrose, MA                       0.5                  5.3             47.0   \n",
       "\n",
       "                   Officers per 10,000 residents  Police Employees  \\\n",
       "name                                                                 \n",
       "Shrewsbury, MA                              12.2              57.0   \n",
       "Brookline, MA                               21.7             153.0   \n",
       "Franklin, MA                                13.8              54.0   \n",
       "North Andover, MA                           13.4              51.0   \n",
       "Melrose, MA                                 16.7              47.0   \n",
       "\n",
       "                   Employees per 10,000 residents 2020 Police Budget  \\\n",
       "name                                                                   \n",
       "Shrewsbury, MA                               15.5      $5,523,925.00   \n",
       "Brookline, MA                                25.7      $9,011,040.00   \n",
       "Franklin, MA                                 16.2      $5,336,655.00   \n",
       "North Andover, MA                            17.1      $5,253,719.00   \n",
       "Melrose, MA                                  16.7      $5,073,129.26   \n",
       "\n",
       "                   Police Budget per capita  \n",
       "name                                         \n",
       "Shrewsbury, MA                       145.47  \n",
       "Brookline, MA                        152.13  \n",
       "Franklin, MA                         160.60  \n",
       "North Andover, MA                    167.87  \n",
       "Melrose, MA                          179.94  "
      ]
     },
     "execution_count": 27,
     "metadata": {},
     "output_type": "execute_result"
    }
   ],
   "source": [
    "df.head()"
   ]
  },
  {
   "cell_type": "code",
   "execution_count": 28,
   "metadata": {},
   "outputs": [
    {
     "data": {
      "text/plain": [
       "Population                                 object\n",
       "Total Crime Rate (per 1,000 residents)    float64\n",
       "Violent Crime Rate                        float64\n",
       "Property Crime Rate                       float64\n",
       "Police Officers                           float64\n",
       "Officers per 10,000 residents             float64\n",
       "Police Employees                          float64\n",
       "Employees per 10,000 residents            float64\n",
       "2020 Police Budget                         object\n",
       "Police Budget per capita                  float64\n",
       "dtype: object"
      ]
     },
     "execution_count": 28,
     "metadata": {},
     "output_type": "execute_result"
    }
   ],
   "source": [
    "df.dtypes"
   ]
  },
  {
   "cell_type": "code",
   "execution_count": 29,
   "metadata": {},
   "outputs": [
    {
     "data": {
      "image/png": "[encoded data removed]",
      "text/plain": [
       "<Figure size 432x288 with 1 Axes>"
      ]
     },
     "metadata": {
      "needs_background": "light"
     },
     "output_type": "display_data"
    }
   ],
   "source": [
    "# sns.scatterplot(data=df,x='Total Crime Rate (per 1,000 residents)',y='Police Budget per capita',hue='name') \n",
    "sns.regplot(data=df,\n",
    "            x='Total Crime Rate (per 1,000 residents)',\n",
    "            y='Police Budget per capita')\n",
    "plt.scatter(df.loc['Newton, MA',:]['Total Crime Rate (per 1,000 residents)'],\n",
    "            df.loc['Newton, MA',:]['Police Budget per capita'],\n",
    "            marker='X',\n",
    "            color='k',\n",
    "            label='Newton')\n",
    "plt.title('Crime and Police Funding in Greater Boston')\n",
    "plt.legend(bbox_to_anchor = [1.05,1.0])\n",
    "plt.savefig(FP_PLOT_OUT)\n"
   ]
  }
 ],
 "metadata": {
  "kernelspec": {
   "display_name": "Python 3.6.7 64-bit ('bci': conda)",
   "language": "python",
   "name": "python36764bitbcicondaf251d7193ed2492bb203dd42dd0e7e16"
  },
  "language_info": {
   "codemirror_mode": {
    "name": "ipython",
    "version": 3
   },
   "file_extension": ".py",
   "mimetype": "text/x-python",
   "name": "python",
   "nbconvert_exporter": "python",
   "pygments_lexer": "ipython3",
   "version": "3.6.7"
  }
 },
 "nbformat": 4,
 "nbformat_minor": 4
}
