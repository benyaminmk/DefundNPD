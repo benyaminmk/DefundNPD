{
 "cells": [
  {
   "cell_type": "markdown",
   "metadata": {},
   "source": [
    "# Crime rate and Funding visualized"
   ]
  },
  {
   "cell_type": "code",
   "execution_count": 28,
   "metadata": {},
   "outputs": [],
   "source": [
    "import os\n",
    "import numpy as np\n",
    "import pandas as pd\n",
    "import seaborn as sns\n",
    "import matplotlib.pyplot as plt\n",
    "import matplotlib\n",
    "matplotlib.style.use('seaborn')"
   ]
  },
  {
   "cell_type": "code",
   "execution_count": 29,
   "metadata": {},
   "outputs": [],
   "source": [
    "#params\n",
    "FP_SAFETY_DATA = os.path.join('data','safety_funding.csv')\n",
    "FP_FIG_SPENDING_VS_CRIME_OUT = os.path.join('plots','spending_vs_crime.svg')\n",
    "FP_FIG_SPENDING_OUT = os.path.join('plots','spending.svg')\n",
    "assert os.path.exists(FP_SAFETY_DATA)\n",
    "## NPD list of comparable cities\n",
    "comp = ['Brookline', \n",
    "        'Cambridge',\n",
    "        'Framingham',\n",
    "        'Malden',\n",
    "        'Medford',\n",
    "        'Melrose',\n",
    "        'Quincy',\n",
    "        'Somerville',\n",
    "        'Waltham',\n",
    "        'Watertown']"
   ]
  },
  {
   "cell_type": "code",
   "execution_count": 30,
   "metadata": {},
   "outputs": [],
   "source": [
    "df = pd.read_csv(FP_SAFETY_DATA,delimiter='\\t')\n",
    "df['Police Budget per capita'] = df['Police Budget per capita'].str.replace('$','').astype(float)\n",
    "newton_mask = df.name=='Newton'\n",
    "newton = df[newton_mask]\n",
    "df = df.loc[:23].infer_objects().sort_index(ascending=False).reset_index(drop=True)"
   ]
  },
  {
   "cell_type": "code",
   "execution_count": 39,
   "metadata": {},
   "outputs": [
    {
     "data": {
      "text/plain": [
       "18"
      ]
     },
     "execution_count": 39,
     "metadata": {},
     "output_type": "execute_result"
    }
   ],
   "source": []
  },
  {
   "cell_type": "code",
   "execution_count": 31,
   "metadata": {},
   "outputs": [
    {
     "data": {
      "text/html": [
       "<div>\n",
       "<style scoped>\n",
       "    .dataframe tbody tr th:only-of-type {\n",
       "        vertical-align: middle;\n",
       "    }\n",
       "\n",
       "    .dataframe tbody tr th {\n",
       "        vertical-align: top;\n",
       "    }\n",
       "\n",
       "    .dataframe thead th {\n",
       "        text-align: right;\n",
       "    }\n",
       "</style>\n",
       "<table border=\"1\" class=\"dataframe\">\n",
       "  <thead>\n",
       "    <tr style=\"text-align: right;\">\n",
       "      <th></th>\n",
       "      <th>name</th>\n",
       "      <th>Population</th>\n",
       "      <th>Total Crime Rate (per 1,000 residents)</th>\n",
       "      <th>Violent Crime Rate</th>\n",
       "      <th>Property Crime Rate</th>\n",
       "      <th>Police Officers</th>\n",
       "      <th>Officers per 10,000 residents</th>\n",
       "      <th>Police Employees</th>\n",
       "      <th>Employees per 10,000 residents</th>\n",
       "      <th>2020 Police Budget</th>\n",
       "      <th>Police Budget per capita</th>\n",
       "    </tr>\n",
       "  </thead>\n",
       "  <tbody>\n",
       "    <tr>\n",
       "      <th>0</th>\n",
       "      <td>Waltham</td>\n",
       "      <td>62979</td>\n",
       "      <td>11.90</td>\n",
       "      <td>2.00</td>\n",
       "      <td>9.90</td>\n",
       "      <td>142.0</td>\n",
       "      <td>22.3</td>\n",
       "      <td>170.0</td>\n",
       "      <td>26.7</td>\n",
       "      <td>$20,270,701.00</td>\n",
       "      <td>321.86</td>\n",
       "    </tr>\n",
       "    <tr>\n",
       "      <th>1</th>\n",
       "      <td>Brookline</td>\n",
       "      <td>59234</td>\n",
       "      <td>11.70</td>\n",
       "      <td>1.00</td>\n",
       "      <td>10.80</td>\n",
       "      <td>129.0</td>\n",
       "      <td>21.7</td>\n",
       "      <td>153.0</td>\n",
       "      <td>25.7</td>\n",
       "      <td>$17,386,626.00</td>\n",
       "      <td>293.52</td>\n",
       "    </tr>\n",
       "    <tr>\n",
       "      <th>2</th>\n",
       "      <td>Belmont</td>\n",
       "      <td>26330</td>\n",
       "      <td>6.60</td>\n",
       "      <td>0.20</td>\n",
       "      <td>6.50</td>\n",
       "      <td>46.0</td>\n",
       "      <td>17.9</td>\n",
       "      <td>60.0</td>\n",
       "      <td>23.4</td>\n",
       "      <td>$7,472,519.00</td>\n",
       "      <td>283.80</td>\n",
       "    </tr>\n",
       "    <tr>\n",
       "      <th>3</th>\n",
       "      <td>Watertown</td>\n",
       "      <td>35954</td>\n",
       "      <td>8.70</td>\n",
       "      <td>0.80</td>\n",
       "      <td>8.00</td>\n",
       "      <td>67.0</td>\n",
       "      <td>19.3</td>\n",
       "      <td>71.0</td>\n",
       "      <td>20.5</td>\n",
       "      <td>$9,960,086.00</td>\n",
       "      <td>277.02</td>\n",
       "    </tr>\n",
       "    <tr>\n",
       "      <th>4</th>\n",
       "      <td>Milton</td>\n",
       "      <td>27616</td>\n",
       "      <td>2.70</td>\n",
       "      <td>0.40</td>\n",
       "      <td>2.30</td>\n",
       "      <td>NaN</td>\n",
       "      <td>NaN</td>\n",
       "      <td>NaN</td>\n",
       "      <td>NaN</td>\n",
       "      <td>$7,439,070.00</td>\n",
       "      <td>269.38</td>\n",
       "    </tr>\n",
       "    <tr>\n",
       "      <th>5</th>\n",
       "      <td>Newton</td>\n",
       "      <td>88904</td>\n",
       "      <td>7.80</td>\n",
       "      <td>0.70</td>\n",
       "      <td>7.20</td>\n",
       "      <td>149.0</td>\n",
       "      <td>16.7</td>\n",
       "      <td>195.0</td>\n",
       "      <td>21.9</td>\n",
       "      <td>$22,804,754.00</td>\n",
       "      <td>256.51</td>\n",
       "    </tr>\n",
       "    <tr>\n",
       "      <th>6</th>\n",
       "      <td>Marshfield</td>\n",
       "      <td>25905</td>\n",
       "      <td>4.50</td>\n",
       "      <td>1.30</td>\n",
       "      <td>3.20</td>\n",
       "      <td>46.0</td>\n",
       "      <td>17.9</td>\n",
       "      <td>49.0</td>\n",
       "      <td>19.1</td>\n",
       "      <td>$5,954,122.00</td>\n",
       "      <td>229.84</td>\n",
       "    </tr>\n",
       "    <tr>\n",
       "      <th>7</th>\n",
       "      <td>Somerville</td>\n",
       "      <td>80434</td>\n",
       "      <td>14.80</td>\n",
       "      <td>2.20</td>\n",
       "      <td>12.60</td>\n",
       "      <td>129.0</td>\n",
       "      <td>16.2</td>\n",
       "      <td>162.0</td>\n",
       "      <td>20.3</td>\n",
       "      <td>$18,242,995.00</td>\n",
       "      <td>226.81</td>\n",
       "    </tr>\n",
       "    <tr>\n",
       "      <th>8</th>\n",
       "      <td>Needham</td>\n",
       "      <td>31248</td>\n",
       "      <td>5.20</td>\n",
       "      <td>0.50</td>\n",
       "      <td>4.70</td>\n",
       "      <td>46.0</td>\n",
       "      <td>15.0</td>\n",
       "      <td>55.0</td>\n",
       "      <td>17.9</td>\n",
       "      <td>$7,063,740.00</td>\n",
       "      <td>226.05</td>\n",
       "    </tr>\n",
       "    <tr>\n",
       "      <th>9</th>\n",
       "      <td>Lexington</td>\n",
       "      <td>33792</td>\n",
       "      <td>3.60</td>\n",
       "      <td>0.20</td>\n",
       "      <td>3.40</td>\n",
       "      <td>47.0</td>\n",
       "      <td>14.0</td>\n",
       "      <td>61.0</td>\n",
       "      <td>18.1</td>\n",
       "      <td>$7,567,030.00</td>\n",
       "      <td>223.93</td>\n",
       "    </tr>\n",
       "    <tr>\n",
       "      <th>10</th>\n",
       "      <td>Wellesley</td>\n",
       "      <td>29673</td>\n",
       "      <td>7.10</td>\n",
       "      <td>0.90</td>\n",
       "      <td>6.20</td>\n",
       "      <td>39.0</td>\n",
       "      <td>13.4</td>\n",
       "      <td>45.0</td>\n",
       "      <td>15.5</td>\n",
       "      <td>$6,553,273.00</td>\n",
       "      <td>220.85</td>\n",
       "    </tr>\n",
       "    <tr>\n",
       "      <th>11</th>\n",
       "      <td>Wakefield</td>\n",
       "      <td>27135</td>\n",
       "      <td>8.10</td>\n",
       "      <td>1.60</td>\n",
       "      <td>6.60</td>\n",
       "      <td>45.0</td>\n",
       "      <td>16.6</td>\n",
       "      <td>46.0</td>\n",
       "      <td>17.0</td>\n",
       "      <td>$5,947,868.00</td>\n",
       "      <td>219.20</td>\n",
       "    </tr>\n",
       "    <tr>\n",
       "      <th>12</th>\n",
       "      <td>Framingham</td>\n",
       "      <td>72032</td>\n",
       "      <td>14.84</td>\n",
       "      <td>3.48</td>\n",
       "      <td>11.36</td>\n",
       "      <td>125.0</td>\n",
       "      <td>17.5</td>\n",
       "      <td>139.0</td>\n",
       "      <td>19.5</td>\n",
       "      <td>$15,224,815.00</td>\n",
       "      <td>211.36</td>\n",
       "    </tr>\n",
       "    <tr>\n",
       "      <th>13</th>\n",
       "      <td>Natick</td>\n",
       "      <td>36229</td>\n",
       "      <td>13.20</td>\n",
       "      <td>1.60</td>\n",
       "      <td>11.70</td>\n",
       "      <td>56.0</td>\n",
       "      <td>15.2</td>\n",
       "      <td>69.0</td>\n",
       "      <td>18.8</td>\n",
       "      <td>$7,634,780.00</td>\n",
       "      <td>210.74</td>\n",
       "    </tr>\n",
       "    <tr>\n",
       "      <th>14</th>\n",
       "      <td>Reading</td>\n",
       "      <td>25337</td>\n",
       "      <td>5.90</td>\n",
       "      <td>0.20</td>\n",
       "      <td>5.80</td>\n",
       "      <td>42.0</td>\n",
       "      <td>16.3</td>\n",
       "      <td>55.0</td>\n",
       "      <td>21.3</td>\n",
       "      <td>$5,316,250.00</td>\n",
       "      <td>209.82</td>\n",
       "    </tr>\n",
       "    <tr>\n",
       "      <th>15</th>\n",
       "      <td>Andover</td>\n",
       "      <td>36403</td>\n",
       "      <td>4.90</td>\n",
       "      <td>0.20</td>\n",
       "      <td>4.80</td>\n",
       "      <td>51.0</td>\n",
       "      <td>14.3</td>\n",
       "      <td>71.0</td>\n",
       "      <td>20.0</td>\n",
       "      <td>$7,541,641.00</td>\n",
       "      <td>207.17</td>\n",
       "    </tr>\n",
       "    <tr>\n",
       "      <th>16</th>\n",
       "      <td>Bridgewater</td>\n",
       "      <td>27395</td>\n",
       "      <td>8.10</td>\n",
       "      <td>2.80</td>\n",
       "      <td>5.40</td>\n",
       "      <td>NaN</td>\n",
       "      <td>NaN</td>\n",
       "      <td>NaN</td>\n",
       "      <td>NaN</td>\n",
       "      <td>$5,558,278.00</td>\n",
       "      <td>202.89</td>\n",
       "    </tr>\n",
       "    <tr>\n",
       "      <th>17</th>\n",
       "      <td>Billerica</td>\n",
       "      <td>43784</td>\n",
       "      <td>4.80</td>\n",
       "      <td>0.90</td>\n",
       "      <td>4.00</td>\n",
       "      <td>65.0</td>\n",
       "      <td>15.1</td>\n",
       "      <td>78.0</td>\n",
       "      <td>18.2</td>\n",
       "      <td>$8,495,213.00</td>\n",
       "      <td>194.03</td>\n",
       "    </tr>\n",
       "    <tr>\n",
       "      <th>18</th>\n",
       "      <td>Arlington</td>\n",
       "      <td>45624</td>\n",
       "      <td>5.00</td>\n",
       "      <td>0.80</td>\n",
       "      <td>4.30</td>\n",
       "      <td>66.0</td>\n",
       "      <td>14.7</td>\n",
       "      <td>84.0</td>\n",
       "      <td>18.7</td>\n",
       "      <td>$8,427,498.00</td>\n",
       "      <td>184.72</td>\n",
       "    </tr>\n",
       "    <tr>\n",
       "      <th>19</th>\n",
       "      <td>Beverly</td>\n",
       "      <td>42312</td>\n",
       "      <td>7.40</td>\n",
       "      <td>1.10</td>\n",
       "      <td>6.30</td>\n",
       "      <td>68.0</td>\n",
       "      <td>16.5</td>\n",
       "      <td>72.0</td>\n",
       "      <td>17.4</td>\n",
       "      <td>$7,781,690.00</td>\n",
       "      <td>183.91</td>\n",
       "    </tr>\n",
       "    <tr>\n",
       "      <th>20</th>\n",
       "      <td>Melrose</td>\n",
       "      <td>28193</td>\n",
       "      <td>5.80</td>\n",
       "      <td>0.50</td>\n",
       "      <td>5.30</td>\n",
       "      <td>47.0</td>\n",
       "      <td>16.7</td>\n",
       "      <td>47.0</td>\n",
       "      <td>16.7</td>\n",
       "      <td>$5,073,129.26</td>\n",
       "      <td>179.94</td>\n",
       "    </tr>\n",
       "    <tr>\n",
       "      <th>21</th>\n",
       "      <td>North Andover</td>\n",
       "      <td>31296</td>\n",
       "      <td>8.10</td>\n",
       "      <td>1.70</td>\n",
       "      <td>6.50</td>\n",
       "      <td>40.0</td>\n",
       "      <td>13.4</td>\n",
       "      <td>51.0</td>\n",
       "      <td>17.1</td>\n",
       "      <td>$5,253,719.00</td>\n",
       "      <td>167.87</td>\n",
       "    </tr>\n",
       "    <tr>\n",
       "      <th>22</th>\n",
       "      <td>Franklin</td>\n",
       "      <td>33230</td>\n",
       "      <td>3.60</td>\n",
       "      <td>0.20</td>\n",
       "      <td>3.50</td>\n",
       "      <td>46.0</td>\n",
       "      <td>13.8</td>\n",
       "      <td>54.0</td>\n",
       "      <td>16.2</td>\n",
       "      <td>$5,336,655.00</td>\n",
       "      <td>160.60</td>\n",
       "    </tr>\n",
       "    <tr>\n",
       "      <th>23</th>\n",
       "      <td>Shrewsbury</td>\n",
       "      <td>37973</td>\n",
       "      <td>3.10</td>\n",
       "      <td>0.10</td>\n",
       "      <td>3.00</td>\n",
       "      <td>45.0</td>\n",
       "      <td>12.2</td>\n",
       "      <td>57.0</td>\n",
       "      <td>15.5</td>\n",
       "      <td>$5,523,925.00</td>\n",
       "      <td>145.47</td>\n",
       "    </tr>\n",
       "  </tbody>\n",
       "</table>\n",
       "</div>"
      ],
      "text/plain": [
       "             name Population  Total Crime Rate (per 1,000 residents)  \\\n",
       "0         Waltham      62979                                   11.90   \n",
       "1       Brookline      59234                                   11.70   \n",
       "2         Belmont      26330                                    6.60   \n",
       "3       Watertown      35954                                    8.70   \n",
       "4          Milton      27616                                    2.70   \n",
       "5          Newton      88904                                    7.80   \n",
       "6      Marshfield      25905                                    4.50   \n",
       "7      Somerville      80434                                   14.80   \n",
       "8         Needham      31248                                    5.20   \n",
       "9       Lexington      33792                                    3.60   \n",
       "10      Wellesley      29673                                    7.10   \n",
       "11      Wakefield      27135                                    8.10   \n",
       "12     Framingham      72032                                   14.84   \n",
       "13         Natick      36229                                   13.20   \n",
       "14        Reading      25337                                    5.90   \n",
       "15        Andover      36403                                    4.90   \n",
       "16    Bridgewater      27395                                    8.10   \n",
       "17      Billerica      43784                                    4.80   \n",
       "18      Arlington      45624                                    5.00   \n",
       "19        Beverly      42312                                    7.40   \n",
       "20        Melrose      28193                                    5.80   \n",
       "21  North Andover      31296                                    8.10   \n",
       "22       Franklin      33230                                    3.60   \n",
       "23     Shrewsbury      37973                                    3.10   \n",
       "\n",
       "    Violent Crime Rate  Property Crime Rate  Police Officers  \\\n",
       "0                 2.00                 9.90            142.0   \n",
       "1                 1.00                10.80            129.0   \n",
       "2                 0.20                 6.50             46.0   \n",
       "3                 0.80                 8.00             67.0   \n",
       "4                 0.40                 2.30              NaN   \n",
       "5                 0.70                 7.20            149.0   \n",
       "6                 1.30                 3.20             46.0   \n",
       "7                 2.20                12.60            129.0   \n",
       "8                 0.50                 4.70             46.0   \n",
       "9                 0.20                 3.40             47.0   \n",
       "10                0.90                 6.20             39.0   \n",
       "11                1.60                 6.60             45.0   \n",
       "12                3.48                11.36            125.0   \n",
       "13                1.60                11.70             56.0   \n",
       "14                0.20                 5.80             42.0   \n",
       "15                0.20                 4.80             51.0   \n",
       "16                2.80                 5.40              NaN   \n",
       "17                0.90                 4.00             65.0   \n",
       "18                0.80                 4.30             66.0   \n",
       "19                1.10                 6.30             68.0   \n",
       "20                0.50                 5.30             47.0   \n",
       "21                1.70                 6.50             40.0   \n",
       "22                0.20                 3.50             46.0   \n",
       "23                0.10                 3.00             45.0   \n",
       "\n",
       "    Officers per 10,000 residents  Police Employees  \\\n",
       "0                            22.3             170.0   \n",
       "1                            21.7             153.0   \n",
       "2                            17.9              60.0   \n",
       "3                            19.3              71.0   \n",
       "4                             NaN               NaN   \n",
       "5                            16.7             195.0   \n",
       "6                            17.9              49.0   \n",
       "7                            16.2             162.0   \n",
       "8                            15.0              55.0   \n",
       "9                            14.0              61.0   \n",
       "10                           13.4              45.0   \n",
       "11                           16.6              46.0   \n",
       "12                           17.5             139.0   \n",
       "13                           15.2              69.0   \n",
       "14                           16.3              55.0   \n",
       "15                           14.3              71.0   \n",
       "16                            NaN               NaN   \n",
       "17                           15.1              78.0   \n",
       "18                           14.7              84.0   \n",
       "19                           16.5              72.0   \n",
       "20                           16.7              47.0   \n",
       "21                           13.4              51.0   \n",
       "22                           13.8              54.0   \n",
       "23                           12.2              57.0   \n",
       "\n",
       "    Employees per 10,000 residents 2020 Police Budget  \\\n",
       "0                             26.7     $20,270,701.00   \n",
       "1                             25.7     $17,386,626.00   \n",
       "2                             23.4      $7,472,519.00   \n",
       "3                             20.5      $9,960,086.00   \n",
       "4                              NaN      $7,439,070.00   \n",
       "5                             21.9     $22,804,754.00   \n",
       "6                             19.1      $5,954,122.00   \n",
       "7                             20.3     $18,242,995.00   \n",
       "8                             17.9      $7,063,740.00   \n",
       "9                             18.1      $7,567,030.00   \n",
       "10                            15.5      $6,553,273.00   \n",
       "11                            17.0      $5,947,868.00   \n",
       "12                            19.5     $15,224,815.00   \n",
       "13                            18.8      $7,634,780.00   \n",
       "14                            21.3      $5,316,250.00   \n",
       "15                            20.0      $7,541,641.00   \n",
       "16                             NaN      $5,558,278.00   \n",
       "17                            18.2      $8,495,213.00   \n",
       "18                            18.7      $8,427,498.00   \n",
       "19                            17.4      $7,781,690.00   \n",
       "20                            16.7      $5,073,129.26   \n",
       "21                            17.1      $5,253,719.00   \n",
       "22                            16.2      $5,336,655.00   \n",
       "23                            15.5      $5,523,925.00   \n",
       "\n",
       "    Police Budget per capita  \n",
       "0                     321.86  \n",
       "1                     293.52  \n",
       "2                     283.80  \n",
       "3                     277.02  \n",
       "4                     269.38  \n",
       "5                     256.51  \n",
       "6                     229.84  \n",
       "7                     226.81  \n",
       "8                     226.05  \n",
       "9                     223.93  \n",
       "10                    220.85  \n",
       "11                    219.20  \n",
       "12                    211.36  \n",
       "13                    210.74  \n",
       "14                    209.82  \n",
       "15                    207.17  \n",
       "16                    202.89  \n",
       "17                    194.03  \n",
       "18                    184.72  \n",
       "19                    183.91  \n",
       "20                    179.94  \n",
       "21                    167.87  \n",
       "22                    160.60  \n",
       "23                    145.47  "
      ]
     },
     "execution_count": 31,
     "metadata": {},
     "output_type": "execute_result"
    }
   ],
   "source": [
    "df"
   ]
  },
  {
   "cell_type": "code",
   "execution_count": 32,
   "metadata": {},
   "outputs": [
    {
     "data": {
      "text/plain": [
       "name                                       object\n",
       "Population                                 object\n",
       "Total Crime Rate (per 1,000 residents)    float64\n",
       "Violent Crime Rate                        float64\n",
       "Property Crime Rate                       float64\n",
       "Police Officers                           float64\n",
       "Officers per 10,000 residents             float64\n",
       "Police Employees                          float64\n",
       "Employees per 10,000 residents            float64\n",
       "2020 Police Budget                         object\n",
       "Police Budget per capita                  float64\n",
       "dtype: object"
      ]
     },
     "execution_count": 32,
     "metadata": {},
     "output_type": "execute_result"
    }
   ],
   "source": [
    "df.dtypes"
   ]
  },
  {
   "cell_type": "code",
   "execution_count": 49,
   "metadata": {},
   "outputs": [
    {
     "data": {
      "image/png": "[encoded data removed]",
      "text/plain": [
       "<Figure size 576x396 with 1 Axes>"
      ]
     },
     "metadata": {},
     "output_type": "display_data"
    }
   ],
   "source": [
    "x = 'Total Crime Rate (per 1,000 residents)'\n",
    "y = 'Police Budget per capita'\n",
    "sns.regplot(data=df,\n",
    "            x=x,\n",
    "            y=y)\n",
    "plt.scatter(newton[x],\n",
    "            newton[y],\n",
    "            marker='X',\n",
    "            color='k',\n",
    "            label='Newton')\n",
    "plt.title('Crime and Police Funding in Greater Boston')\n",
    "plt.legend(bbox_to_anchor = [1.35,1.0])\n",
    "# plt.savefig(FP_FIG_SPENDING_VS_CRIME_OUT)\n",
    "\n"
   ]
  },
  {
   "cell_type": "code",
   "execution_count": 34,
   "metadata": {},
   "outputs": [],
   "source": [
    "pdspending = 'Police Budget per capita'\n",
    "crime = 'Total Crime Rate (per 1,000 residents)'"
   ]
  },
  {
   "cell_type": "code",
   "execution_count": 14,
   "metadata": {},
   "outputs": [
    {
     "data": {
      "text/plain": [
       "215.28"
      ]
     },
     "execution_count": 14,
     "metadata": {},
     "output_type": "execute_result"
    }
   ],
   "source": [
    "df[pdspending].median()"
   ]
  },
  {
   "cell_type": "code",
   "execution_count": 47,
   "metadata": {
    "scrolled": true
   },
   "outputs": [
    {
     "name": "stdout",
     "output_type": "stream",
     "text": [
      "median spending is 215.28\n",
      "Newton spends $3665511.92 more than the median level of police spending\n"
     ]
    }
   ],
   "source": [
    "newton_at_median = (newton[pdspending] - df[pdspending].median())*int(newton.Population)\n",
    "print(f'median spending is {df[pdspending].median()}')\n",
    "print(f'Newton spends ${np.round(newton_at_median.values[0],2)} more than the median level of police spending')"
   ]
  },
  {
   "cell_type": "code",
   "execution_count": 46,
   "metadata": {},
   "outputs": [
    {
     "data": {
      "image/png": "[encoded data removed]",
      "text/plain": [
       "<Figure size 576x396 with 1 Axes>"
      ]
     },
     "metadata": {},
     "output_type": "display_data"
    }
   ],
   "source": [
    "# plt.figure(figsize=[3.5,5])\n",
    "# plt.hlines(df[pdspending].median(),-.1,0.1,label='median')\n",
    "# plt.scatter([0],newton[pdspending],marker='d',s=20,label='Newton')\n",
    "plt.figure()\n",
    "ax=plt.gca()\n",
    "y_pos = np.arange(len(df))\n",
    "plt.barh(y_pos,df[pdspending])\n",
    "ax.set_yticks(y_pos)\n",
    "ax.set_yticklabels(df.name);\n",
    "plt.xlim(140,340)\n",
    "plt.vlines(df[pdspending].median(),min(y_pos)-1,max(y_pos)+1,'r',ls='--')\n",
    "plt.tight_layout()\n",
    "# plt.savefig(FP_FIG_SPENDING_OUT)"
   ]
  },
  {
   "cell_type": "markdown",
   "metadata": {},
   "source": [
    "# Field Interrogations and Observations\n",
    "2015- May 2020\n"
   ]
  },
  {
   "cell_type": "code",
   "execution_count": 50,
   "metadata": {},
   "outputs": [],
   "source": [
    "# Params\n",
    "FP_FIO = 'data/FIO.csv'\n",
    "FP_DEMOGRAPHICS = 'data/newton_demographics.csv'\n",
    "\n",
    "FP_FIO_BYRACE_OUT = 'analysis/fio_byrace.csv'\n",
    "FP_FIG_FIO_COUNT_OUT = 'plots/fio_allstops_proportional_to_race.svg'\n",
    "\n",
    "assert os.path.exists(FP_FIO)\n",
    "assert os.path.exists(FP_DEMOGRAPHICS)\n",
    "\n",
    "#demographic map\n",
    "demo_map = {'W':'White',\n",
    "            'B':'Black or African American',\n",
    "            'A':'Asian',\n",
    "            'I':'American Indian and Alaska Native',\n",
    "            'H':'Hispanic or Latino (of any race)',\n",
    "            'U':'unknown'}\n",
    "map_demo_label = lambda demo_abbrev: demo_map[demo_abbrev]"
   ]
  },
  {
   "cell_type": "code",
   "execution_count": 51,
   "metadata": {},
   "outputs": [
    {
     "data": {
      "text/html": [
       "<div>\n",
       "<style scoped>\n",
       "    .dataframe tbody tr th:only-of-type {\n",
       "        vertical-align: middle;\n",
       "    }\n",
       "\n",
       "    .dataframe tbody tr th {\n",
       "        vertical-align: top;\n",
       "    }\n",
       "\n",
       "    .dataframe thead th {\n",
       "        text-align: right;\n",
       "    }\n",
       "</style>\n",
       "<table border=\"1\" class=\"dataframe\">\n",
       "  <thead>\n",
       "    <tr style=\"text-align: right;\">\n",
       "      <th></th>\n",
       "      <th>Date/Time</th>\n",
       "      <th>Type/Offense</th>\n",
       "      <th>Location</th>\n",
       "      <th>Race</th>\n",
       "      <th>Gender</th>\n",
       "      <th>Age</th>\n",
       "      <th>Reason</th>\n",
       "      <th>Officer Initiated</th>\n",
       "    </tr>\n",
       "  </thead>\n",
       "  <tbody>\n",
       "    <tr>\n",
       "      <th>0</th>\n",
       "      <td>9/12/2015 20:49</td>\n",
       "      <td>FIO</td>\n",
       "      <td>ALBEMARLE RD &amp; NORTH ST (NV)</td>\n",
       "      <td>W</td>\n",
       "      <td>M</td>\n",
       "      <td>75</td>\n",
       "      <td>Call for a male sleeping on a bench</td>\n",
       "      <td>No</td>\n",
       "    </tr>\n",
       "    <tr>\n",
       "      <th>1</th>\n",
       "      <td>9/24/2015 18:39</td>\n",
       "      <td>FIO</td>\n",
       "      <td>PARKER ST &amp; WHEELER RD</td>\n",
       "      <td>B</td>\n",
       "      <td>F</td>\n",
       "      <td>25</td>\n",
       "      <td>Call For Solicitors in the Area Ringing Doorbells</td>\n",
       "      <td>No</td>\n",
       "    </tr>\n",
       "    <tr>\n",
       "      <th>2</th>\n",
       "      <td>10/6/2015 13:31</td>\n",
       "      <td>FIO</td>\n",
       "      <td>WABASSO ST</td>\n",
       "      <td>W</td>\n",
       "      <td>M</td>\n",
       "      <td>52</td>\n",
       "      <td>Call for tents in the woods off of Wabasso St</td>\n",
       "      <td>No</td>\n",
       "    </tr>\n",
       "    <tr>\n",
       "      <th>3</th>\n",
       "      <td>10/6/2015 13:31</td>\n",
       "      <td>FIO</td>\n",
       "      <td>WABASSO ST</td>\n",
       "      <td>W</td>\n",
       "      <td>F</td>\n",
       "      <td>45</td>\n",
       "      <td>Call for tents in the woods off of Wabasso St</td>\n",
       "      <td>No</td>\n",
       "    </tr>\n",
       "    <tr>\n",
       "      <th>4</th>\n",
       "      <td>11/28/2015 0:37</td>\n",
       "      <td>FIO</td>\n",
       "      <td>41 CLARENDON ST</td>\n",
       "      <td>W</td>\n",
       "      <td>M</td>\n",
       "      <td>18</td>\n",
       "      <td>Stopped after a call for B&amp;E M/V</td>\n",
       "      <td>No</td>\n",
       "    </tr>\n",
       "  </tbody>\n",
       "</table>\n",
       "</div>"
      ],
      "text/plain": [
       "         Date/Time Type/Offense                      Location Race Gender Age  \\\n",
       "0  9/12/2015 20:49          FIO  ALBEMARLE RD & NORTH ST (NV)    W      M  75   \n",
       "1  9/24/2015 18:39          FIO        PARKER ST & WHEELER RD    B      F  25   \n",
       "2  10/6/2015 13:31          FIO                    WABASSO ST    W      M  52   \n",
       "3  10/6/2015 13:31          FIO                    WABASSO ST    W      F  45   \n",
       "4  11/28/2015 0:37          FIO               41 CLARENDON ST    W      M  18   \n",
       "\n",
       "                                              Reason Officer Initiated  \n",
       "0                Call for a male sleeping on a bench                No  \n",
       "1  Call For Solicitors in the Area Ringing Doorbells                No  \n",
       "2      Call for tents in the woods off of Wabasso St                No  \n",
       "3      Call for tents in the woods off of Wabasso St                No  \n",
       "4                   Stopped after a call for B&E M/V                No  "
      ]
     },
     "execution_count": 51,
     "metadata": {},
     "output_type": "execute_result"
    }
   ],
   "source": [
    "fio = pd.read_csv(FP_FIO)\n",
    "fio.head()"
   ]
  },
  {
   "cell_type": "code",
   "execution_count": 52,
   "metadata": {},
   "outputs": [
    {
     "data": {
      "text/html": [
       "<div>\n",
       "<style scoped>\n",
       "    .dataframe tbody tr th:only-of-type {\n",
       "        vertical-align: middle;\n",
       "    }\n",
       "\n",
       "    .dataframe tbody tr th {\n",
       "        vertical-align: top;\n",
       "    }\n",
       "\n",
       "    .dataframe thead th {\n",
       "        text-align: right;\n",
       "    }\n",
       "</style>\n",
       "<table border=\"1\" class=\"dataframe\">\n",
       "  <thead>\n",
       "    <tr style=\"text-align: right;\">\n",
       "      <th></th>\n",
       "      <th>demographic</th>\n",
       "      <th>demo_proportion</th>\n",
       "    </tr>\n",
       "  </thead>\n",
       "  <tbody>\n",
       "    <tr>\n",
       "      <th>0</th>\n",
       "      <td>White</td>\n",
       "      <td>0.803</td>\n",
       "    </tr>\n",
       "    <tr>\n",
       "      <th>1</th>\n",
       "      <td>Black or African American</td>\n",
       "      <td>0.035</td>\n",
       "    </tr>\n",
       "    <tr>\n",
       "      <th>2</th>\n",
       "      <td>American Indian and Alaska Native</td>\n",
       "      <td>0.001</td>\n",
       "    </tr>\n",
       "    <tr>\n",
       "      <th>3</th>\n",
       "      <td>Asian</td>\n",
       "      <td>0.130</td>\n",
       "    </tr>\n",
       "    <tr>\n",
       "      <th>4</th>\n",
       "      <td>Hispanic or Latino (of any race)</td>\n",
       "      <td>0.049</td>\n",
       "    </tr>\n",
       "    <tr>\n",
       "      <th>5</th>\n",
       "      <td>unknown</td>\n",
       "      <td>0.031</td>\n",
       "    </tr>\n",
       "  </tbody>\n",
       "</table>\n",
       "</div>"
      ],
      "text/plain": [
       "                         demographic  demo_proportion\n",
       "0                              White            0.803\n",
       "1          Black or African American            0.035\n",
       "2  American Indian and Alaska Native            0.001\n",
       "3                              Asian            0.130\n",
       "4   Hispanic or Latino (of any race)            0.049\n",
       "5                            unknown            0.031"
      ]
     },
     "execution_count": 52,
     "metadata": {},
     "output_type": "execute_result"
    }
   ],
   "source": [
    "demo = pd.read_csv(FP_DEMOGRAPHICS,usecols=['demographic','Newton'])\n",
    "#aggregate demographics not listed in FIOs as \"unknown\"\n",
    "unknown_demos = ['Native Hawaiian and Other Pacific Islander','Some other race','Two or more races']\n",
    "unknown_mask = [demographic in unknown_demos for demographic in demo.demographic]\n",
    "demo.loc[8,:] = ['unknown',demo[unknown_mask].Newton.sum()]\n",
    "demo = demo.set_index('demographic').drop(labels=unknown_demos).reset_index()\n",
    "demo.columns=['demographic','demo_proportion']\n",
    "demo"
   ]
  },
  {
   "cell_type": "code",
   "execution_count": 53,
   "metadata": {
    "scrolled": true
   },
   "outputs": [],
   "source": [
    "fio_byrace = fio.groupby('Race').count()['Date/Time'].reset_index()\n",
    "fio_byrace['Race'] = fio_byrace.Race.apply(map_demo_label)\n",
    "fio_byrace.columns=['demographic','count']\n",
    "fio_byrace['count_proportion'] = fio_byrace['count']/len(fio)\n",
    "\n",
    "fio_byrace = fio_byrace.set_index('demographic').join(demo.set_index('demographic'))\n",
    "\n",
    "#calculate FIO stops proportionally\n",
    "count_proportionally = lambda x : x[1]/x[2]\n",
    "fio_byrace['stop_liklihood'] = fio_byrace.apply(count_proportionally,raw=True,axis=1)"
   ]
  },
  {
   "cell_type": "code",
   "execution_count": 54,
   "metadata": {},
   "outputs": [],
   "source": [
    "fio_byrace.round(3).to_csv(FP_FIO_BYRACE_OUT)"
   ]
  },
  {
   "cell_type": "raw",
   "metadata": {},
   "source": [
    "%matplotlib inline\n",
    "fio_byrace.stop_liklihood.plot(kind='bar')\n",
    "plt.title('Liklihood of having police field interactions\\nproportional to race/ethnicity')\n",
    "plt.savefig(FP_FIG_FIO_COUNT_OUT)"
   ]
  },
  {
   "cell_type": "code",
   "execution_count": 55,
   "metadata": {},
   "outputs": [
    {
     "name": "stdout",
     "output_type": "stream",
     "text": [
      "If you are Black in Newton, you are 7.315 times more likely to have field interactions with the police than a white person\n"
     ]
    }
   ],
   "source": [
    "ratio_blktowhite = fio_byrace.loc['Black or African American'].stop_liklihood / fio_byrace.loc['White'].stop_liklihood\n",
    "print(f'If you are Black in Newton, you are {np.round(ratio_blktowhite,3)} times more likely to have field interactions with the police than a white person')"
   ]
  },
  {
   "cell_type": "code",
   "execution_count": 56,
   "metadata": {},
   "outputs": [
    {
     "name": "stdout",
     "output_type": "stream",
     "text": [
      "If you are Latinx in Newton, you are 1.425 times more likely to have field interactions with the police than a white person\n"
     ]
    }
   ],
   "source": [
    "ratio_lattowhite = fio_byrace.loc['Hispanic or Latino (of any race)'].stop_liklihood / fio_byrace.loc['White'].stop_liklihood\n",
    "print(f'If you are Latinx in Newton, you are {np.round(ratio_lattowhite,3)} times more likely to have field interactions with the police than a white person')"
   ]
  },
  {
   "cell_type": "markdown",
   "metadata": {},
   "source": [
    "### What about officer initiated??"
   ]
  },
  {
   "cell_type": "code",
   "execution_count": 57,
   "metadata": {},
   "outputs": [
    {
     "data": {
      "text/plain": [
       "Officer Initiated\n",
       "No     136\n",
       "Yes     74\n",
       "Name: Reason, dtype: int64"
      ]
     },
     "execution_count": 57,
     "metadata": {},
     "output_type": "execute_result"
    }
   ],
   "source": [
    "# get count of number of officer initated stops\n",
    "fio.groupby('Officer Initiated').Reason.count()"
   ]
  },
  {
   "cell_type": "code",
   "execution_count": 58,
   "metadata": {},
   "outputs": [],
   "source": [
    "fio_initiated = fio.groupby('Officer Initiated').get_group('Yes')"
   ]
  },
  {
   "cell_type": "code",
   "execution_count": 59,
   "metadata": {},
   "outputs": [],
   "source": [
    "fio_initiated_byrace = fio_initiated.groupby('Race').count()['Date/Time'].reset_index()\n",
    "fio_initiated_byrace['Race'] = fio_initiated_byrace.Race.apply(map_demo_label)\n",
    "fio_initiated_byrace.columns=['demographic','count']\n",
    "fio_initiated_byrace['count_proportion'] = fio_initiated_byrace['count']/len(fio_initiated)\n",
    "\n",
    "fio_initiated_byrace = fio_initiated_byrace.set_index('demographic').join(demo.set_index('demographic'))\n",
    "\n",
    "#calculate FIO stops proportionally\n",
    "# count_proportionally = lambda x : x[1]/x[2]\n",
    "fio_initiated_byrace['stop_liklihood'] = fio_initiated_byrace.apply(count_proportionally,raw=True,axis=1)"
   ]
  },
  {
   "cell_type": "code",
   "execution_count": 60,
   "metadata": {},
   "outputs": [
    {
     "data": {
      "text/html": [
       "<div>\n",
       "<style scoped>\n",
       "    .dataframe tbody tr th:only-of-type {\n",
       "        vertical-align: middle;\n",
       "    }\n",
       "\n",
       "    .dataframe tbody tr th {\n",
       "        vertical-align: top;\n",
       "    }\n",
       "\n",
       "    .dataframe thead th {\n",
       "        text-align: right;\n",
       "    }\n",
       "</style>\n",
       "<table border=\"1\" class=\"dataframe\">\n",
       "  <thead>\n",
       "    <tr style=\"text-align: right;\">\n",
       "      <th></th>\n",
       "      <th>count</th>\n",
       "      <th>count_proportion</th>\n",
       "      <th>demo_proportion</th>\n",
       "      <th>stop_liklihood</th>\n",
       "    </tr>\n",
       "    <tr>\n",
       "      <th>demographic</th>\n",
       "      <th></th>\n",
       "      <th></th>\n",
       "      <th></th>\n",
       "      <th></th>\n",
       "    </tr>\n",
       "  </thead>\n",
       "  <tbody>\n",
       "    <tr>\n",
       "      <th>Asian</th>\n",
       "      <td>1</td>\n",
       "      <td>0.013514</td>\n",
       "      <td>0.130</td>\n",
       "      <td>0.103950</td>\n",
       "    </tr>\n",
       "    <tr>\n",
       "      <th>Black or African American</th>\n",
       "      <td>18</td>\n",
       "      <td>0.243243</td>\n",
       "      <td>0.035</td>\n",
       "      <td>6.949807</td>\n",
       "    </tr>\n",
       "    <tr>\n",
       "      <th>Hispanic or Latino (of any race)</th>\n",
       "      <td>7</td>\n",
       "      <td>0.094595</td>\n",
       "      <td>0.049</td>\n",
       "      <td>1.930502</td>\n",
       "    </tr>\n",
       "    <tr>\n",
       "      <th>unknown</th>\n",
       "      <td>2</td>\n",
       "      <td>0.027027</td>\n",
       "      <td>0.031</td>\n",
       "      <td>0.871840</td>\n",
       "    </tr>\n",
       "    <tr>\n",
       "      <th>White</th>\n",
       "      <td>46</td>\n",
       "      <td>0.621622</td>\n",
       "      <td>0.803</td>\n",
       "      <td>0.774124</td>\n",
       "    </tr>\n",
       "  </tbody>\n",
       "</table>\n",
       "</div>"
      ],
      "text/plain": [
       "                                  count  count_proportion  demo_proportion  \\\n",
       "demographic                                                                  \n",
       "Asian                                 1          0.013514            0.130   \n",
       "Black or African American            18          0.243243            0.035   \n",
       "Hispanic or Latino (of any race)      7          0.094595            0.049   \n",
       "unknown                               2          0.027027            0.031   \n",
       "White                                46          0.621622            0.803   \n",
       "\n",
       "                                  stop_liklihood  \n",
       "demographic                                       \n",
       "Asian                                   0.103950  \n",
       "Black or African American               6.949807  \n",
       "Hispanic or Latino (of any race)        1.930502  \n",
       "unknown                                 0.871840  \n",
       "White                                   0.774124  "
      ]
     },
     "execution_count": 60,
     "metadata": {},
     "output_type": "execute_result"
    }
   ],
   "source": [
    "fio_initiated_byrace"
   ]
  },
  {
   "cell_type": "code",
   "execution_count": 61,
   "metadata": {},
   "outputs": [],
   "source": [
    "fio_initiated_byrace.to_csv('analysis/fio_initiated_byrace.csv')"
   ]
  },
  {
   "cell_type": "code",
   "execution_count": 63,
   "metadata": {},
   "outputs": [],
   "source": [
    "fio_call = fio.groupby('Officer Initiated').get_group('No')\n",
    "fio_call_byrace = fio_call.groupby('Race').count()['Date/Time'].reset_index()\n",
    "fio_call_byrace['Race'] = fio_call_byrace.Race.apply(map_demo_label)\n",
    "fio_call_byrace.columns=['demographic','count']\n",
    "fio_call_byrace['count_proportion'] = fio_call_byrace['count']/len(fio_call)\n",
    "\n",
    "fio_call_byrace = fio_call_byrace.set_index('demographic').join(demo.set_index('demographic'))\n",
    "\n",
    "#calculate FIO stops proportionally\n",
    "# count_proportionally = lambda x : x[1]/x[2]\n",
    "fio_call_byrace['stop_liklihood'] = fio_call_byrace.apply(count_proportionally,raw=True,axis=1)"
   ]
  },
  {
   "cell_type": "code",
   "execution_count": 65,
   "metadata": {},
   "outputs": [
    {
     "data": {
      "text/html": [
       "<div>\n",
       "<style scoped>\n",
       "    .dataframe tbody tr th:only-of-type {\n",
       "        vertical-align: middle;\n",
       "    }\n",
       "\n",
       "    .dataframe tbody tr th {\n",
       "        vertical-align: top;\n",
       "    }\n",
       "\n",
       "    .dataframe thead th {\n",
       "        text-align: right;\n",
       "    }\n",
       "</style>\n",
       "<table border=\"1\" class=\"dataframe\">\n",
       "  <thead>\n",
       "    <tr style=\"text-align: right;\">\n",
       "      <th></th>\n",
       "      <th>count</th>\n",
       "      <th>count_proportion</th>\n",
       "      <th>demo_proportion</th>\n",
       "      <th>stop_liklihood</th>\n",
       "    </tr>\n",
       "    <tr>\n",
       "      <th>demographic</th>\n",
       "      <th></th>\n",
       "      <th></th>\n",
       "      <th></th>\n",
       "      <th></th>\n",
       "    </tr>\n",
       "  </thead>\n",
       "  <tbody>\n",
       "    <tr>\n",
       "      <th>Asian</th>\n",
       "      <td>5</td>\n",
       "      <td>0.036765</td>\n",
       "      <td>0.130</td>\n",
       "      <td>0.282805</td>\n",
       "    </tr>\n",
       "    <tr>\n",
       "      <th>Black or African American</th>\n",
       "      <td>26</td>\n",
       "      <td>0.191176</td>\n",
       "      <td>0.035</td>\n",
       "      <td>5.462185</td>\n",
       "    </tr>\n",
       "    <tr>\n",
       "      <th>Hispanic or Latino (of any race)</th>\n",
       "      <td>5</td>\n",
       "      <td>0.036765</td>\n",
       "      <td>0.049</td>\n",
       "      <td>0.750300</td>\n",
       "    </tr>\n",
       "    <tr>\n",
       "      <th>American Indian and Alaska Native</th>\n",
       "      <td>1</td>\n",
       "      <td>0.007353</td>\n",
       "      <td>0.001</td>\n",
       "      <td>7.352941</td>\n",
       "    </tr>\n",
       "    <tr>\n",
       "      <th>unknown</th>\n",
       "      <td>7</td>\n",
       "      <td>0.051471</td>\n",
       "      <td>0.031</td>\n",
       "      <td>1.660342</td>\n",
       "    </tr>\n",
       "    <tr>\n",
       "      <th>White</th>\n",
       "      <td>92</td>\n",
       "      <td>0.676471</td>\n",
       "      <td>0.803</td>\n",
       "      <td>0.842429</td>\n",
       "    </tr>\n",
       "  </tbody>\n",
       "</table>\n",
       "</div>"
      ],
      "text/plain": [
       "                                   count  count_proportion  demo_proportion  \\\n",
       "demographic                                                                   \n",
       "Asian                                  5          0.036765            0.130   \n",
       "Black or African American             26          0.191176            0.035   \n",
       "Hispanic or Latino (of any race)       5          0.036765            0.049   \n",
       "American Indian and Alaska Native      1          0.007353            0.001   \n",
       "unknown                                7          0.051471            0.031   \n",
       "White                                 92          0.676471            0.803   \n",
       "\n",
       "                                   stop_liklihood  \n",
       "demographic                                        \n",
       "Asian                                    0.282805  \n",
       "Black or African American                5.462185  \n",
       "Hispanic or Latino (of any race)         0.750300  \n",
       "American Indian and Alaska Native        7.352941  \n",
       "unknown                                  1.660342  \n",
       "White                                    0.842429  "
      ]
     },
     "execution_count": 65,
     "metadata": {},
     "output_type": "execute_result"
    }
   ],
   "source": [
    "fio_call_byrace"
   ]
  },
  {
   "cell_type": "code",
   "execution_count": 78,
   "metadata": {},
   "outputs": [
    {
     "data": {
      "text/plain": [
       "<AxesSubplot:>"
      ]
     },
     "execution_count": 78,
     "metadata": {},
     "output_type": "execute_result"
    },
    {
     "data": {
      "image/png": "[encoded data removed]",
      "text/plain": [
       "<Figure size 576x396 with 1 Axes>"
      ]
     },
     "metadata": {},
     "output_type": "display_data"
    }
   ],
   "source": [
    "compare = pd.DataFrame({'initiated':fio_initiated_byrace.stop_liklihood,\n",
    "                        'call':fio_call_byrace.stop_liklihood})\n",
    "compare.plot(kind='bar')"
   ]
  },
  {
   "cell_type": "markdown",
   "metadata": {},
   "source": [
    "### FIO by gender?"
   ]
  },
  {
   "cell_type": "code",
   "execution_count": 51,
   "metadata": {},
   "outputs": [
    {
     "data": {
      "text/html": [
       "<div>\n",
       "<style scoped>\n",
       "    .dataframe tbody tr th:only-of-type {\n",
       "        vertical-align: middle;\n",
       "    }\n",
       "\n",
       "    .dataframe tbody tr th {\n",
       "        vertical-align: top;\n",
       "    }\n",
       "\n",
       "    .dataframe thead th {\n",
       "        text-align: right;\n",
       "    }\n",
       "</style>\n",
       "<table border=\"1\" class=\"dataframe\">\n",
       "  <thead>\n",
       "    <tr style=\"text-align: right;\">\n",
       "      <th></th>\n",
       "      <th>Race</th>\n",
       "      <th>Gender</th>\n",
       "      <th>Date/Time</th>\n",
       "    </tr>\n",
       "  </thead>\n",
       "  <tbody>\n",
       "    <tr>\n",
       "      <th>0</th>\n",
       "      <td>Asian</td>\n",
       "      <td>M</td>\n",
       "      <td>6</td>\n",
       "    </tr>\n",
       "    <tr>\n",
       "      <th>1</th>\n",
       "      <td>Black or African American</td>\n",
       "      <td>F</td>\n",
       "      <td>11</td>\n",
       "    </tr>\n",
       "    <tr>\n",
       "      <th>2</th>\n",
       "      <td>Black or African American</td>\n",
       "      <td>M</td>\n",
       "      <td>33</td>\n",
       "    </tr>\n",
       "    <tr>\n",
       "      <th>3</th>\n",
       "      <td>Hispanic or Latino (of any race)</td>\n",
       "      <td>F</td>\n",
       "      <td>3</td>\n",
       "    </tr>\n",
       "    <tr>\n",
       "      <th>4</th>\n",
       "      <td>Hispanic or Latino (of any race)</td>\n",
       "      <td>M</td>\n",
       "      <td>8</td>\n",
       "    </tr>\n",
       "    <tr>\n",
       "      <th>5</th>\n",
       "      <td>Hispanic or Latino (of any race)</td>\n",
       "      <td>U</td>\n",
       "      <td>1</td>\n",
       "    </tr>\n",
       "    <tr>\n",
       "      <th>6</th>\n",
       "      <td>American Indian and Alaska Native</td>\n",
       "      <td>M</td>\n",
       "      <td>1</td>\n",
       "    </tr>\n",
       "    <tr>\n",
       "      <th>7</th>\n",
       "      <td>unknown</td>\n",
       "      <td>F</td>\n",
       "      <td>1</td>\n",
       "    </tr>\n",
       "    <tr>\n",
       "      <th>8</th>\n",
       "      <td>unknown</td>\n",
       "      <td>M</td>\n",
       "      <td>6</td>\n",
       "    </tr>\n",
       "    <tr>\n",
       "      <th>9</th>\n",
       "      <td>unknown</td>\n",
       "      <td>U</td>\n",
       "      <td>2</td>\n",
       "    </tr>\n",
       "    <tr>\n",
       "      <th>10</th>\n",
       "      <td>White</td>\n",
       "      <td>F</td>\n",
       "      <td>30</td>\n",
       "    </tr>\n",
       "    <tr>\n",
       "      <th>11</th>\n",
       "      <td>White</td>\n",
       "      <td>M</td>\n",
       "      <td>108</td>\n",
       "    </tr>\n",
       "  </tbody>\n",
       "</table>\n",
       "</div>"
      ],
      "text/plain": [
       "                                 Race Gender  Date/Time\n",
       "0                               Asian      M          6\n",
       "1           Black or African American      F         11\n",
       "2           Black or African American      M         33\n",
       "3    Hispanic or Latino (of any race)      F          3\n",
       "4    Hispanic or Latino (of any race)      M          8\n",
       "5    Hispanic or Latino (of any race)      U          1\n",
       "6   American Indian and Alaska Native      M          1\n",
       "7                             unknown      F          1\n",
       "8                             unknown      M          6\n",
       "9                             unknown      U          2\n",
       "10                              White      F         30\n",
       "11                              White      M        108"
      ]
     },
     "execution_count": 51,
     "metadata": {},
     "output_type": "execute_result"
    }
   ],
   "source": [
    "a = fio.groupby(['Race','Gender']).count()['Date/Time'].reset_index()\n",
    "a['Race'] = a.Race.apply(map_demo_label)\n",
    "a"
   ]
  },
  {
   "cell_type": "code",
   "execution_count": null,
   "metadata": {},
   "outputs": [],
   "source": []
  },
  {
   "cell_type": "code",
   "execution_count": 53,
   "metadata": {
    "scrolled": true
   },
   "outputs": [
    {
     "data": {
      "text/plain": [
       "Date/Time                                9/12/2015 20:49\n",
       "Type/Offense                                         FIO\n",
       "Location                    ALBEMARLE RD & NORTH ST (NV)\n",
       "Race                                                   W\n",
       "Gender                                                 M\n",
       "Age                                                   75\n",
       "Reason               Call for a male sleeping on a bench\n",
       "Officer Initiated                                     No\n",
       "Name: 0, dtype: object"
      ]
     },
     "execution_count": 53,
     "metadata": {},
     "output_type": "execute_result"
    }
   ],
   "source": [
    "fio.iloc[0]"
   ]
  },
  {
   "cell_type": "markdown",
   "metadata": {},
   "source": [
    "# Traffic stops"
   ]
  },
  {
   "cell_type": "code",
   "execution_count": null,
   "metadata": {},
   "outputs": [],
   "source": [
    "#Params\n",
    "FP_TRAFFIC_DATA = 'data/NPD race and traffic stops.csv'\n",
    "FP_FIG_CITATIONS_OUT = 'plots/citation_rate.svg'\n",
    "assert os.path.exists(FP_TRAFFIC_DATA)"
   ]
  },
  {
   "cell_type": "code",
   "execution_count": null,
   "metadata": {},
   "outputs": [],
   "source": [
    "traffic = pd.read_csv(FP_TRAFFIC_DATA)\n",
    "traffic.head()"
   ]
  },
  {
   "cell_type": "code",
   "execution_count": null,
   "metadata": {},
   "outputs": [],
   "source": [
    "traffic_black = traffic.groupby('Race/ethnicity').get_group('Black')\n",
    "traffic_black.Warnings.sum()/traffic_black.Citations.sum()"
   ]
  },
  {
   "cell_type": "code",
   "execution_count": null,
   "metadata": {},
   "outputs": [],
   "source": [
    "traffic_white = traffic.groupby('Race/ethnicity').get_group('White')\n",
    "traffic_white.Warnings.sum()/traffic_white.Citations.sum()"
   ]
  },
  {
   "cell_type": "code",
   "execution_count": null,
   "metadata": {},
   "outputs": [],
   "source": [
    "races = traffic['Race/ethnicity'].unique()\n",
    "by_race = traffic.groupby('Race/ethnicity')\n",
    "warnings = [by_race.get_group(race).Warnings.sum() for race in races]\n",
    "citations = [by_race.get_group(race).Citations.sum() for race in races]\n",
    "demo_proportion = []\n",
    "for race in races:\n",
    "    demo_mask = [race in demographic for demographic in demo.demographic]\n",
    "    prop = demo.demo_proportion[demo_mask].values\n",
    "    demo_proportion.append(prop[0])\n",
    "traffic_proportionally = pd.DataFrame({'demographic':races,\n",
    "                                       'warnings':warnings,\n",
    "                                       'citations':citations,\n",
    "                                       'demo_prop':demo_proportion})\n",
    "traffic_proportionally['warn_prop'] = traffic_proportionally.warnings/traffic_proportionally.warnings.sum()\n",
    "traffic_proportionally['cit_prop'] = traffic_proportionally.citations/traffic_proportionally.citations.sum()"
   ]
  },
  {
   "cell_type": "code",
   "execution_count": null,
   "metadata": {},
   "outputs": [],
   "source": [
    "traffic_proportionally"
   ]
  },
  {
   "cell_type": "code",
   "execution_count": null,
   "metadata": {},
   "outputs": [],
   "source": [
    "#calculate traffic stop outcomes proportionally\n",
    "\n",
    "citations_proportional_demo = lambda x : x[5]/x[3]\n",
    "traffic_proportionally['citation_rate'] = traffic_proportionally.apply(citations_proportional_demo,raw=True,axis=1)\n",
    "\n",
    "warnings_proportional_demo = lambda x : x[4]/x[3]\n",
    "traffic_proportionally['warning_rate'] = traffic_proportionally.apply(warnings_proportional_demo,raw=True,axis=1)"
   ]
  },
  {
   "cell_type": "code",
   "execution_count": null,
   "metadata": {},
   "outputs": [],
   "source": [
    "traffic_proportionally"
   ]
  },
  {
   "cell_type": "code",
   "execution_count": 25,
   "metadata": {},
   "outputs": [
    {
     "ename": "NameError",
     "evalue": "name 'traffic_proportionally' is not defined",
     "output_type": "error",
     "traceback": [
      "\u001b[0;31m---------------------------------------------------------------------------\u001b[0m",
      "\u001b[0;31mNameError\u001b[0m                                 Traceback (most recent call last)",
      "\u001b[0;32m<ipython-input-25-520c30fa3f95>\u001b[0m in \u001b[0;36m<module>\u001b[0;34m\u001b[0m\n\u001b[0;32m----> 1\u001b[0;31m \u001b[0mtraffic_proportionally\u001b[0m\u001b[0;34m.\u001b[0m\u001b[0mset_index\u001b[0m\u001b[0;34m(\u001b[0m\u001b[0;34m'demographic'\u001b[0m\u001b[0;34m)\u001b[0m\u001b[0;34m.\u001b[0m\u001b[0mdrop\u001b[0m\u001b[0;34m(\u001b[0m\u001b[0;34m'unknown'\u001b[0m\u001b[0;34m)\u001b[0m\u001b[0;34m.\u001b[0m\u001b[0mcitation_rate\u001b[0m\u001b[0;34m.\u001b[0m\u001b[0mplot\u001b[0m\u001b[0;34m(\u001b[0m\u001b[0mkind\u001b[0m\u001b[0;34m=\u001b[0m\u001b[0;34m'bar'\u001b[0m\u001b[0;34m)\u001b[0m\u001b[0;34m\u001b[0m\u001b[0;34m\u001b[0m\u001b[0m\n\u001b[0m\u001b[1;32m      2\u001b[0m \u001b[0mplt\u001b[0m\u001b[0;34m.\u001b[0m\u001b[0msavefig\u001b[0m\u001b[0;34m(\u001b[0m\u001b[0mFP_FIG_CITATIONS_OUT\u001b[0m\u001b[0;34m)\u001b[0m\u001b[0;34m\u001b[0m\u001b[0;34m\u001b[0m\u001b[0m\n",
      "\u001b[0;31mNameError\u001b[0m: name 'traffic_proportionally' is not defined"
     ]
    }
   ],
   "source": [
    "traffic_proportionally.set_index('demographic').drop('unknown').citation_rate.plot(kind='bar')\n",
    "# plt.savefig(FP_FIG_CITATIONS_OUT)"
   ]
  },
  {
   "cell_type": "code",
   "execution_count": null,
   "metadata": {},
   "outputs": [],
   "source": [
    "likelihood_black = traffic_proportionally.set_index('demographic').loc['Black','citation_rate']/traffic_proportionally.set_index('demographic').loc['White','citation_rate']\n",
    "print(f\"If you're Black and driving in Newton you are {np.round(likelihood_black,3)} times more likely to get a traffic citation than if you're white\")"
   ]
  },
  {
   "cell_type": "code",
   "execution_count": null,
   "metadata": {},
   "outputs": [],
   "source": []
  }
 ],
 "metadata": {
  "kernelspec": {
   "display_name": "Python 3",
   "language": "python",
   "name": "python3"
  },
  "language_info": {
   "codemirror_mode": {
    "name": "ipython",
    "version": 3
   },
   "file_extension": ".py",
   "mimetype": "text/x-python",
   "name": "python",
   "nbconvert_exporter": "python",
   "pygments_lexer": "ipython3",
   "version": "3.8.5"
  }
 },
 "nbformat": 4,
 "nbformat_minor": 4
}
